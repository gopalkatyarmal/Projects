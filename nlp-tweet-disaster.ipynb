{
 "cells": [
  {
   "cell_type": "code",
   "execution_count": 1,
   "id": "4ce6a7cf",
   "metadata": {
    "_cell_guid": "b1076dfc-b9ad-4769-8c92-a6c4dae69d19",
    "_uuid": "8f2839f25d086af736a60e9eeb907d3b93b6e0e5",
    "execution": {
     "iopub.execute_input": "2023-08-27T13:26:27.979636Z",
     "iopub.status.busy": "2023-08-27T13:26:27.979234Z",
     "iopub.status.idle": "2023-08-27T13:26:37.235350Z",
     "shell.execute_reply": "2023-08-27T13:26:37.233832Z"
    },
    "papermill": {
     "duration": 9.265148,
     "end_time": "2023-08-27T13:26:37.237962",
     "exception": false,
     "start_time": "2023-08-27T13:26:27.972814",
     "status": "completed"
    },
    "tags": []
   },
   "outputs": [
    {
     "name": "stderr",
     "output_type": "stream",
     "text": [
      "/opt/conda/lib/python3.10/site-packages/scipy/__init__.py:146: UserWarning: A NumPy version >=1.16.5 and <1.23.0 is required for this version of SciPy (detected version 1.23.5\n",
      "  warnings.warn(f\"A NumPy version >={np_minversion} and <{np_maxversion}\"\n",
      "/opt/conda/lib/python3.10/site-packages/tensorflow_io/python/ops/__init__.py:98: UserWarning: unable to load libtensorflow_io_plugins.so: unable to open file: libtensorflow_io_plugins.so, from paths: ['/opt/conda/lib/python3.10/site-packages/tensorflow_io/python/ops/libtensorflow_io_plugins.so']\n",
      "caused by: ['/opt/conda/lib/python3.10/site-packages/tensorflow_io/python/ops/libtensorflow_io_plugins.so: undefined symbol: _ZN3tsl6StatusC1EN10tensorflow5error4CodeESt17basic_string_viewIcSt11char_traitsIcEENS_14SourceLocationE']\n",
      "  warnings.warn(f\"unable to load libtensorflow_io_plugins.so: {e}\")\n",
      "/opt/conda/lib/python3.10/site-packages/tensorflow_io/python/ops/__init__.py:104: UserWarning: file system plugins are not loaded: unable to open file: libtensorflow_io.so, from paths: ['/opt/conda/lib/python3.10/site-packages/tensorflow_io/python/ops/libtensorflow_io.so']\n",
      "caused by: ['/opt/conda/lib/python3.10/site-packages/tensorflow_io/python/ops/libtensorflow_io.so: undefined symbol: _ZTVN10tensorflow13GcsFileSystemE']\n",
      "  warnings.warn(f\"file system plugins are not loaded: {e}\")\n"
     ]
    },
    {
     "name": "stdout",
     "output_type": "stream",
     "text": [
      "TensorFlow version: 2.12.0\n",
      "/kaggle/input/nlp-getting-started/sample_submission.csv\n",
      "/kaggle/input/nlp-getting-started/train.csv\n",
      "/kaggle/input/nlp-getting-started/test.csv\n"
     ]
    }
   ],
   "source": [
    "# This Python 3 environment comes with many helpful analytics libraries installed\n",
    "# It is defined by the kaggle/python Docker image: https://github.com/kaggle/docker-python\n",
    "# For example, here's several helpful packages to load\n",
    "\n",
    "# !pip install -U tensorflow==2.0.0\n",
    "import numpy as np # linear algebra\n",
    "import pandas as pd # data processing, CSV file I/O (e.g. pd.read_csv)\n",
    "import tensorflow as tf\n",
    "print(\"TensorFlow version:\", tf.__version__)\n",
    "\n",
    "# Input data files are available in the read-only \"../input/\" directory\n",
    "# For example, running this (by clicking run or pressing Shift+Enter) will list all files under the input directory\n",
    "\n",
    "import os\n",
    "for dirname, _, filenames in os.walk('/kaggle/input'):\n",
    "    for filename in filenames:\n",
    "        print(os.path.join(dirname, filename))\n",
    "\n",
    "# You can write up to 20GB to the current directory (/kaggle/working/) that gets preserved as output when you create a version using \"Save & Run All\" \n",
    "# You can also write temporary files to /kaggle/temp/, but they won't be saved outside of the current session"
   ]
  },
  {
   "cell_type": "code",
   "execution_count": 2,
   "id": "f72b717f",
   "metadata": {
    "execution": {
     "iopub.execute_input": "2023-08-27T13:26:37.248796Z",
     "iopub.status.busy": "2023-08-27T13:26:37.248030Z",
     "iopub.status.idle": "2023-08-27T13:26:38.959017Z",
     "shell.execute_reply": "2023-08-27T13:26:38.957821Z"
    },
    "papermill": {
     "duration": 1.719255,
     "end_time": "2023-08-27T13:26:38.961817",
     "exception": false,
     "start_time": "2023-08-27T13:26:37.242562",
     "status": "completed"
    },
    "tags": []
   },
   "outputs": [],
   "source": [
    "from nltk.corpus import stopwords\n",
    "from nltk.tokenize import word_tokenize\n",
    "# nltk.download('stopwords')\n",
    "def parse (sent):\n",
    "    words = word_tokenize(sent)\n",
    "    parsed_words = [word for word in words if not word in stopwords.words()]\n",
    "    return \" \".join(parsed_words)"
   ]
  },
  {
   "cell_type": "code",
   "execution_count": 3,
   "id": "a6b09286",
   "metadata": {
    "execution": {
     "iopub.execute_input": "2023-08-27T13:26:38.972350Z",
     "iopub.status.busy": "2023-08-27T13:26:38.971980Z",
     "iopub.status.idle": "2023-08-27T13:48:23.243248Z",
     "shell.execute_reply": "2023-08-27T13:48:23.241956Z"
    },
    "papermill": {
     "duration": 1304.280762,
     "end_time": "2023-08-27T13:48:23.246902",
     "exception": false,
     "start_time": "2023-08-27T13:26:38.966140",
     "status": "completed"
    },
    "tags": []
   },
   "outputs": [
    {
     "name": "stdout",
     "output_type": "stream",
     "text": [
      "['id', 'keyword', 'location', 'text', 'target']\n"
     ]
    },
    {
     "name": "stderr",
     "output_type": "stream",
     "text": [
      "7613it [15:09,  8.37it/s]\n"
     ]
    },
    {
     "name": "stdout",
     "output_type": "stream",
     "text": [
      "['id', 'keyword', 'location', 'text']\n"
     ]
    },
    {
     "name": "stderr",
     "output_type": "stream",
     "text": [
      "3263it [06:34,  8.27it/s]\n"
     ]
    }
   ],
   "source": [
    "import csv\n",
    "from tqdm import tqdm\n",
    "labels = []\n",
    "sentences = []\n",
    "test_id = []\n",
    "test_sentences = []\n",
    "with open('/kaggle/input/nlp-getting-started/train.csv', 'r') as file:\n",
    "    csv_reader = csv.reader(file)\n",
    "    print(next(csv_reader))\n",
    "    for row in tqdm(csv_reader):\n",
    "        labels.append(int(row[4]))\n",
    "#         sentences.append(row[3])\n",
    "        sentences.append(parse(row[3]))\n",
    "with open('/kaggle/input/nlp-getting-started/test.csv', 'r') as test_file:\n",
    "    test_csv_reader = csv.reader(test_file)\n",
    "    print(next(test_csv_reader))\n",
    "    for tst_row in tqdm(test_csv_reader):\n",
    "        test_id.append(tst_row[0])\n",
    "#         test_sentences.append(tst_row[3])\n",
    "        test_sentences.append(parse(tst_row[3]))"
   ]
  },
  {
   "cell_type": "code",
   "execution_count": 4,
   "id": "ee6d21d9",
   "metadata": {
    "execution": {
     "iopub.execute_input": "2023-08-27T13:48:24.639992Z",
     "iopub.status.busy": "2023-08-27T13:48:24.639564Z",
     "iopub.status.idle": "2023-08-27T13:48:24.646992Z",
     "shell.execute_reply": "2023-08-27T13:48:24.645724Z"
    },
    "papermill": {
     "duration": 0.706407,
     "end_time": "2023-08-27T13:48:24.649609",
     "exception": false,
     "start_time": "2023-08-27T13:48:23.943202",
     "status": "completed"
    },
    "tags": []
   },
   "outputs": [
    {
     "name": "stdout",
     "output_type": "stream",
     "text": [
      "7613 7613 3263\n"
     ]
    }
   ],
   "source": [
    "print(len(labels), len(sentences), len(test_sentences))"
   ]
  },
  {
   "cell_type": "code",
   "execution_count": 5,
   "id": "546d0274",
   "metadata": {
    "execution": {
     "iopub.execute_input": "2023-08-27T13:48:26.123285Z",
     "iopub.status.busy": "2023-08-27T13:48:26.122526Z",
     "iopub.status.idle": "2023-08-27T13:48:26.651862Z",
     "shell.execute_reply": "2023-08-27T13:48:26.650311Z"
    },
    "papermill": {
     "duration": 1.308463,
     "end_time": "2023-08-27T13:48:26.654272",
     "exception": false,
     "start_time": "2023-08-27T13:48:25.345809",
     "status": "completed"
    },
    "tags": []
   },
   "outputs": [
    {
     "name": "stdout",
     "output_type": "stream",
     "text": [
      "(7613, 30)\n",
      "[ 551 4419  717  167  834 1438 4420    0    0    0    0    0    0    0\n",
      "    0    0    0    0    0    0    0    0    0    0    0    0    0    0\n",
      "    0    0]\n"
     ]
    }
   ],
   "source": [
    "from tensorflow.keras.preprocessing.text import Tokenizer\n",
    "from tensorflow.keras.utils import pad_sequences\n",
    "tokenizer  = Tokenizer(oov_token = '<OOV>')\n",
    "tokenizer.fit_on_texts(sentences)\n",
    "sequences = tokenizer.texts_to_sequences(sentences)\n",
    "pad_seq = pad_sequences(sequences, maxlen = 30, padding = 'post', truncating  = 'post')\n",
    "print(pad_seq.shape)\n",
    "print(pad_seq[0])\n",
    "i = np.array(pad_seq)\n",
    "o = np.array(labels)\n",
    "# print(tokenizer.word_index)\n",
    "# print(tokenizer.index_word)\n",
    "test_i = np.array(pad_sequences(tokenizer.texts_to_sequences(test_sentences), maxlen = 30, padding = 'post', truncating = 'post'))"
   ]
  },
  {
   "cell_type": "code",
   "execution_count": 6,
   "id": "23d26a03",
   "metadata": {
    "execution": {
     "iopub.execute_input": "2023-08-27T13:48:28.035113Z",
     "iopub.status.busy": "2023-08-27T13:48:28.034731Z",
     "iopub.status.idle": "2023-08-27T13:48:29.014169Z",
     "shell.execute_reply": "2023-08-27T13:48:29.012963Z"
    },
    "papermill": {
     "duration": 1.671813,
     "end_time": "2023-08-27T13:48:29.017047",
     "exception": false,
     "start_time": "2023-08-27T13:48:27.345234",
     "status": "completed"
    },
    "tags": []
   },
   "outputs": [
    {
     "name": "stdout",
     "output_type": "stream",
     "text": [
      "Model: \"sequential\"\n",
      "_________________________________________________________________\n",
      " Layer (type)                Output Shape              Param #   \n",
      "=================================================================\n",
      " embedding (Embedding)       (None, 30, 10)            500000    \n",
      "                                                                 \n",
      " bidirectional (Bidirectiona  (None, 64)               11008     \n",
      " l)                                                              \n",
      "                                                                 \n",
      " dense (Dense)               (None, 32)                2080      \n",
      "                                                                 \n",
      " dense_1 (Dense)             (None, 1)                 33        \n",
      "                                                                 \n",
      "=================================================================\n",
      "Total params: 513,121\n",
      "Trainable params: 513,121\n",
      "Non-trainable params: 0\n",
      "_________________________________________________________________\n"
     ]
    }
   ],
   "source": [
    "model = tf.keras.Sequential([\n",
    "    tf.keras.layers.Embedding(50000, 10, input_length = 30),\n",
    "    tf.keras.layers.Bidirectional(tf.keras.layers.LSTM(32)),\n",
    "    tf.keras.layers.Dense(32, activation = 'relu'),\n",
    "    tf.keras.layers.Dense(1, activation  = 'sigmoid')\n",
    "])\n",
    "model.summary()\n",
    "model.compile( loss = 'binary_crossentropy', metrics = 'acc', optimizer = 'rmsprop')"
   ]
  },
  {
   "cell_type": "code",
   "execution_count": 7,
   "id": "2bd06fde",
   "metadata": {
    "execution": {
     "iopub.execute_input": "2023-08-27T13:48:30.472745Z",
     "iopub.status.busy": "2023-08-27T13:48:30.472291Z",
     "iopub.status.idle": "2023-08-27T13:49:12.241003Z",
     "shell.execute_reply": "2023-08-27T13:49:12.239639Z"
    },
    "papermill": {
     "duration": 42.461694,
     "end_time": "2023-08-27T13:49:12.243634",
     "exception": false,
     "start_time": "2023-08-27T13:48:29.781940",
     "status": "completed"
    },
    "tags": []
   },
   "outputs": [
    {
     "name": "stdout",
     "output_type": "stream",
     "text": [
      "Epoch 1/10\n",
      "167/167 [==============================] - 9s 27ms/step - loss: 0.6490 - acc: 0.6269 - val_loss: 0.6326 - val_acc: 0.6331\n",
      "Epoch 2/10\n",
      "167/167 [==============================] - 4s 24ms/step - loss: 0.4750 - acc: 0.7921 - val_loss: 0.5133 - val_acc: 0.7574\n",
      "Epoch 3/10\n",
      "167/167 [==============================] - 4s 21ms/step - loss: 0.3475 - acc: 0.8611 - val_loss: 0.5545 - val_acc: 0.7137\n",
      "Epoch 4/10\n",
      "167/167 [==============================] - 4s 21ms/step - loss: 0.2964 - acc: 0.8842 - val_loss: 0.4978 - val_acc: 0.7802\n",
      "Epoch 5/10\n",
      "167/167 [==============================] - 3s 21ms/step - loss: 0.2561 - acc: 0.9017 - val_loss: 0.5018 - val_acc: 0.7767\n",
      "Epoch 6/10\n",
      "167/167 [==============================] - 4s 21ms/step - loss: 0.2250 - acc: 0.9186 - val_loss: 0.5646 - val_acc: 0.7618\n",
      "Epoch 7/10\n",
      "167/167 [==============================] - 4s 22ms/step - loss: 0.1985 - acc: 0.9287 - val_loss: 0.6415 - val_acc: 0.6940\n",
      "Epoch 8/10\n",
      "167/167 [==============================] - 4s 21ms/step - loss: 0.1757 - acc: 0.9392 - val_loss: 0.7198 - val_acc: 0.7167\n",
      "Epoch 9/10\n",
      "167/167 [==============================] - 4s 21ms/step - loss: 0.1587 - acc: 0.9460 - val_loss: 0.6947 - val_acc: 0.7058\n",
      "Epoch 10/10\n",
      "167/167 [==============================] - 4s 23ms/step - loss: 0.1427 - acc: 0.9540 - val_loss: 0.6552 - val_acc: 0.6961\n",
      "{'verbose': 1, 'epochs': 10, 'steps': 167}\n"
     ]
    }
   ],
   "source": [
    "history = model.fit(x= i, y= o, epochs = 10 ,validation_split=0.3)\n",
    "print(history.params)"
   ]
  },
  {
   "cell_type": "code",
   "execution_count": 8,
   "id": "faf0022f",
   "metadata": {
    "execution": {
     "iopub.execute_input": "2023-08-27T13:49:13.808995Z",
     "iopub.status.busy": "2023-08-27T13:49:13.808599Z",
     "iopub.status.idle": "2023-08-27T13:49:15.369442Z",
     "shell.execute_reply": "2023-08-27T13:49:15.368364Z"
    },
    "papermill": {
     "duration": 2.377812,
     "end_time": "2023-08-27T13:49:15.372089",
     "exception": false,
     "start_time": "2023-08-27T13:49:12.994277",
     "status": "completed"
    },
    "tags": []
   },
   "outputs": [
    {
     "name": "stdout",
     "output_type": "stream",
     "text": [
      "102/102 [==============================] - 1s 6ms/step\n"
     ]
    }
   ],
   "source": [
    "pred_o = model.predict(test_i)\n",
    "e = []\n",
    "i=0\n",
    "for oo in pred_o:\n",
    "    if oo>0.5 :\n",
    "        e.append([test_id[i],1])\n",
    "    else:\n",
    "        e.append([test_id[i],0])\n",
    "    i = i+1\n",
    "with open('/kaggle/working/output.csv', 'w') as op:\n",
    "    write = csv.writer(op)\n",
    "    write.writerow([\"id\", \"target\"])\n",
    "    write.writerows(e)\n",
    "# with open('/kaggle/working/output.csv', 'r') as opp:\n",
    "#     re = csv.reader(opp)\n",
    "#     for row in re:\n",
    "#         print(row)"
   ]
  },
  {
   "cell_type": "code",
   "execution_count": null,
   "id": "2af64d2b",
   "metadata": {
    "papermill": {
     "duration": 0.821794,
     "end_time": "2023-08-27T13:49:16.946210",
     "exception": false,
     "start_time": "2023-08-27T13:49:16.124416",
     "status": "completed"
    },
    "tags": []
   },
   "outputs": [],
   "source": []
  }
 ],
 "metadata": {
  "kernelspec": {
   "display_name": "Python 3",
   "language": "python",
   "name": "python3"
  },
  "language_info": {
   "codemirror_mode": {
    "name": "ipython",
    "version": 3
   },
   "file_extension": ".py",
   "mimetype": "text/x-python",
   "name": "python",
   "nbconvert_exporter": "python",
   "pygments_lexer": "ipython3",
   "version": "3.10.12"
  },
  "papermill": {
   "default_parameters": {},
   "duration": 1383.661556,
   "end_time": "2023-08-27T13:49:20.364756",
   "environment_variables": {},
   "exception": null,
   "input_path": "__notebook__.ipynb",
   "output_path": "__notebook__.ipynb",
   "parameters": {},
   "start_time": "2023-08-27T13:26:16.703200",
   "version": "2.4.0"
  }
 },
 "nbformat": 4,
 "nbformat_minor": 5
}
